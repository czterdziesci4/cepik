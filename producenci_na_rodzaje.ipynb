{
 "cells": [
  {
   "cell_type": "code",
   "execution_count": 1,
   "id": "dedb1617-a778-4daa-9376-5f8a3600641b",
   "metadata": {},
   "outputs": [],
   "source": [
    "import os\n",
    "import pandas as pd\n",
    "import numpy as np\n",
    "from datetime import datetime\n",
    "\n"
   ]
  },
  {
   "cell_type": "code",
   "execution_count": 2,
   "id": "bdad7f6f-aa30-493a-a036-355c05893de9",
   "metadata": {},
   "outputs": [],
   "source": [
    "#Stałe\n",
    "\n",
    "#Ścieżki\n",
    "path = \"D:/Dokumenty/Tomek/Data_science/Cepik/nowe_samochody/dane_do_analizy/prod_na_rodzaje/\"\n",
    "out_path = path + \"output/\"\n",
    "files = [file for file in os.listdir(path) if os.path.isfile(os.path.join(path,file))] # Ignore hidden files\n",
    "\n",
    "rodzaje = ['SAMOCHÓD OSOBOWY','SAMOCHÓD CIĘŻAROWY', 'MOTOCYKL', 'MOTOROWER','PRZYCZEPA LEKKA', 'NACZEPA CIĘŻAROWA','CIĄGNIK SAMOCHODOWY','CIĄGNIK ROLNICZY','PRZYCZEPA CIĘŻAROWA']\n",
    "nazwy = ['SAMOCHOD_OSOBOWY','SAMOCHOD_CIEZAROWY', 'MOTOCYKL', 'MOTOROWER','PRZYCZEPA_LEKKA', 'NACZEPA_CIEZAROWA','CIAGNIK_SAMOCHODOWY','CIAGNIK_ROLNICZY','PRZYCZEPA_CIEZAROWA']"
   ]
  },
  {
   "cell_type": "code",
   "execution_count": 3,
   "id": "eb82ff5d-ce7b-46b3-b7dc-00c2dbf7fdcb",
   "metadata": {},
   "outputs": [
    {
     "name": "stdout",
     "output_type": "stream",
     "text": [
      "----------------------\n",
      "file:  producenci_2018.csv\n",
      "Zapisano D:/Dokumenty/Tomek/Data_science/Cepik/nowe_samochody/dane_do_analizy/prod_na_rodzaje/output/D:/Dokumenty/Tomek/Data_science/Cepik/nowe_samochody/dane_do_analizy/prod_na_rodzaje/output/producenci_2018_samochod_osobowy.csv\n",
      "Zapisano D:/Dokumenty/Tomek/Data_science/Cepik/nowe_samochody/dane_do_analizy/prod_na_rodzaje/output/D:/Dokumenty/Tomek/Data_science/Cepik/nowe_samochody/dane_do_analizy/prod_na_rodzaje/output/producenci_2018_samochod_ciezarowy.csv\n",
      "Zapisano D:/Dokumenty/Tomek/Data_science/Cepik/nowe_samochody/dane_do_analizy/prod_na_rodzaje/output/D:/Dokumenty/Tomek/Data_science/Cepik/nowe_samochody/dane_do_analizy/prod_na_rodzaje/output/producenci_2018_motocykl.csv\n",
      "Zapisano D:/Dokumenty/Tomek/Data_science/Cepik/nowe_samochody/dane_do_analizy/prod_na_rodzaje/output/D:/Dokumenty/Tomek/Data_science/Cepik/nowe_samochody/dane_do_analizy/prod_na_rodzaje/output/producenci_2018_motorower.csv\n",
      "Zapisano D:/Dokumenty/Tomek/Data_science/Cepik/nowe_samochody/dane_do_analizy/prod_na_rodzaje/output/D:/Dokumenty/Tomek/Data_science/Cepik/nowe_samochody/dane_do_analizy/prod_na_rodzaje/output/producenci_2018_przyczepa_lekka.csv\n",
      "Zapisano D:/Dokumenty/Tomek/Data_science/Cepik/nowe_samochody/dane_do_analizy/prod_na_rodzaje/output/D:/Dokumenty/Tomek/Data_science/Cepik/nowe_samochody/dane_do_analizy/prod_na_rodzaje/output/producenci_2018_naczepa_ciezarowa.csv\n",
      "Zapisano D:/Dokumenty/Tomek/Data_science/Cepik/nowe_samochody/dane_do_analizy/prod_na_rodzaje/output/D:/Dokumenty/Tomek/Data_science/Cepik/nowe_samochody/dane_do_analizy/prod_na_rodzaje/output/producenci_2018_ciagnik_samochodowy.csv\n",
      "Zapisano D:/Dokumenty/Tomek/Data_science/Cepik/nowe_samochody/dane_do_analizy/prod_na_rodzaje/output/D:/Dokumenty/Tomek/Data_science/Cepik/nowe_samochody/dane_do_analizy/prod_na_rodzaje/output/producenci_2018_ciagnik_rolniczy.csv\n",
      "Zapisano D:/Dokumenty/Tomek/Data_science/Cepik/nowe_samochody/dane_do_analizy/prod_na_rodzaje/output/D:/Dokumenty/Tomek/Data_science/Cepik/nowe_samochody/dane_do_analizy/prod_na_rodzaje/output/producenci_2018_przyczepa_ciezarowa.csv\n",
      "----------------------\n",
      "file:  producenci_2019.csv\n",
      "Zapisano D:/Dokumenty/Tomek/Data_science/Cepik/nowe_samochody/dane_do_analizy/prod_na_rodzaje/output/D:/Dokumenty/Tomek/Data_science/Cepik/nowe_samochody/dane_do_analizy/prod_na_rodzaje/output/producenci_2019_samochod_osobowy.csv\n",
      "Zapisano D:/Dokumenty/Tomek/Data_science/Cepik/nowe_samochody/dane_do_analizy/prod_na_rodzaje/output/D:/Dokumenty/Tomek/Data_science/Cepik/nowe_samochody/dane_do_analizy/prod_na_rodzaje/output/producenci_2019_samochod_ciezarowy.csv\n",
      "Zapisano D:/Dokumenty/Tomek/Data_science/Cepik/nowe_samochody/dane_do_analizy/prod_na_rodzaje/output/D:/Dokumenty/Tomek/Data_science/Cepik/nowe_samochody/dane_do_analizy/prod_na_rodzaje/output/producenci_2019_motocykl.csv\n",
      "Zapisano D:/Dokumenty/Tomek/Data_science/Cepik/nowe_samochody/dane_do_analizy/prod_na_rodzaje/output/D:/Dokumenty/Tomek/Data_science/Cepik/nowe_samochody/dane_do_analizy/prod_na_rodzaje/output/producenci_2019_motorower.csv\n",
      "Zapisano D:/Dokumenty/Tomek/Data_science/Cepik/nowe_samochody/dane_do_analizy/prod_na_rodzaje/output/D:/Dokumenty/Tomek/Data_science/Cepik/nowe_samochody/dane_do_analizy/prod_na_rodzaje/output/producenci_2019_przyczepa_lekka.csv\n",
      "Zapisano D:/Dokumenty/Tomek/Data_science/Cepik/nowe_samochody/dane_do_analizy/prod_na_rodzaje/output/D:/Dokumenty/Tomek/Data_science/Cepik/nowe_samochody/dane_do_analizy/prod_na_rodzaje/output/producenci_2019_naczepa_ciezarowa.csv\n",
      "Zapisano D:/Dokumenty/Tomek/Data_science/Cepik/nowe_samochody/dane_do_analizy/prod_na_rodzaje/output/D:/Dokumenty/Tomek/Data_science/Cepik/nowe_samochody/dane_do_analizy/prod_na_rodzaje/output/producenci_2019_ciagnik_samochodowy.csv\n",
      "Zapisano D:/Dokumenty/Tomek/Data_science/Cepik/nowe_samochody/dane_do_analizy/prod_na_rodzaje/output/D:/Dokumenty/Tomek/Data_science/Cepik/nowe_samochody/dane_do_analizy/prod_na_rodzaje/output/producenci_2019_ciagnik_rolniczy.csv\n",
      "Zapisano D:/Dokumenty/Tomek/Data_science/Cepik/nowe_samochody/dane_do_analizy/prod_na_rodzaje/output/D:/Dokumenty/Tomek/Data_science/Cepik/nowe_samochody/dane_do_analizy/prod_na_rodzaje/output/producenci_2019_przyczepa_ciezarowa.csv\n",
      "----------------------\n",
      "file:  producenci_2020.csv\n",
      "Zapisano D:/Dokumenty/Tomek/Data_science/Cepik/nowe_samochody/dane_do_analizy/prod_na_rodzaje/output/D:/Dokumenty/Tomek/Data_science/Cepik/nowe_samochody/dane_do_analizy/prod_na_rodzaje/output/producenci_2020_samochod_osobowy.csv\n",
      "Zapisano D:/Dokumenty/Tomek/Data_science/Cepik/nowe_samochody/dane_do_analizy/prod_na_rodzaje/output/D:/Dokumenty/Tomek/Data_science/Cepik/nowe_samochody/dane_do_analizy/prod_na_rodzaje/output/producenci_2020_samochod_ciezarowy.csv\n",
      "Zapisano D:/Dokumenty/Tomek/Data_science/Cepik/nowe_samochody/dane_do_analizy/prod_na_rodzaje/output/D:/Dokumenty/Tomek/Data_science/Cepik/nowe_samochody/dane_do_analizy/prod_na_rodzaje/output/producenci_2020_motocykl.csv\n",
      "Zapisano D:/Dokumenty/Tomek/Data_science/Cepik/nowe_samochody/dane_do_analizy/prod_na_rodzaje/output/D:/Dokumenty/Tomek/Data_science/Cepik/nowe_samochody/dane_do_analizy/prod_na_rodzaje/output/producenci_2020_motorower.csv\n",
      "Zapisano D:/Dokumenty/Tomek/Data_science/Cepik/nowe_samochody/dane_do_analizy/prod_na_rodzaje/output/D:/Dokumenty/Tomek/Data_science/Cepik/nowe_samochody/dane_do_analizy/prod_na_rodzaje/output/producenci_2020_przyczepa_lekka.csv\n",
      "Zapisano D:/Dokumenty/Tomek/Data_science/Cepik/nowe_samochody/dane_do_analizy/prod_na_rodzaje/output/D:/Dokumenty/Tomek/Data_science/Cepik/nowe_samochody/dane_do_analizy/prod_na_rodzaje/output/producenci_2020_naczepa_ciezarowa.csv\n",
      "Zapisano D:/Dokumenty/Tomek/Data_science/Cepik/nowe_samochody/dane_do_analizy/prod_na_rodzaje/output/D:/Dokumenty/Tomek/Data_science/Cepik/nowe_samochody/dane_do_analizy/prod_na_rodzaje/output/producenci_2020_ciagnik_samochodowy.csv\n",
      "Zapisano D:/Dokumenty/Tomek/Data_science/Cepik/nowe_samochody/dane_do_analizy/prod_na_rodzaje/output/D:/Dokumenty/Tomek/Data_science/Cepik/nowe_samochody/dane_do_analizy/prod_na_rodzaje/output/producenci_2020_ciagnik_rolniczy.csv\n",
      "Zapisano D:/Dokumenty/Tomek/Data_science/Cepik/nowe_samochody/dane_do_analizy/prod_na_rodzaje/output/D:/Dokumenty/Tomek/Data_science/Cepik/nowe_samochody/dane_do_analizy/prod_na_rodzaje/output/producenci_2020_przyczepa_ciezarowa.csv\n",
      "----------------------\n",
      "file:  producenci_2021.csv\n",
      "Zapisano D:/Dokumenty/Tomek/Data_science/Cepik/nowe_samochody/dane_do_analizy/prod_na_rodzaje/output/D:/Dokumenty/Tomek/Data_science/Cepik/nowe_samochody/dane_do_analizy/prod_na_rodzaje/output/producenci_2021_samochod_osobowy.csv\n",
      "Zapisano D:/Dokumenty/Tomek/Data_science/Cepik/nowe_samochody/dane_do_analizy/prod_na_rodzaje/output/D:/Dokumenty/Tomek/Data_science/Cepik/nowe_samochody/dane_do_analizy/prod_na_rodzaje/output/producenci_2021_samochod_ciezarowy.csv\n",
      "Zapisano D:/Dokumenty/Tomek/Data_science/Cepik/nowe_samochody/dane_do_analizy/prod_na_rodzaje/output/D:/Dokumenty/Tomek/Data_science/Cepik/nowe_samochody/dane_do_analizy/prod_na_rodzaje/output/producenci_2021_motocykl.csv\n",
      "Zapisano D:/Dokumenty/Tomek/Data_science/Cepik/nowe_samochody/dane_do_analizy/prod_na_rodzaje/output/D:/Dokumenty/Tomek/Data_science/Cepik/nowe_samochody/dane_do_analizy/prod_na_rodzaje/output/producenci_2021_motorower.csv\n",
      "Zapisano D:/Dokumenty/Tomek/Data_science/Cepik/nowe_samochody/dane_do_analizy/prod_na_rodzaje/output/D:/Dokumenty/Tomek/Data_science/Cepik/nowe_samochody/dane_do_analizy/prod_na_rodzaje/output/producenci_2021_przyczepa_lekka.csv\n",
      "Zapisano D:/Dokumenty/Tomek/Data_science/Cepik/nowe_samochody/dane_do_analizy/prod_na_rodzaje/output/D:/Dokumenty/Tomek/Data_science/Cepik/nowe_samochody/dane_do_analizy/prod_na_rodzaje/output/producenci_2021_naczepa_ciezarowa.csv\n",
      "Zapisano D:/Dokumenty/Tomek/Data_science/Cepik/nowe_samochody/dane_do_analizy/prod_na_rodzaje/output/D:/Dokumenty/Tomek/Data_science/Cepik/nowe_samochody/dane_do_analizy/prod_na_rodzaje/output/producenci_2021_ciagnik_samochodowy.csv\n",
      "Zapisano D:/Dokumenty/Tomek/Data_science/Cepik/nowe_samochody/dane_do_analizy/prod_na_rodzaje/output/D:/Dokumenty/Tomek/Data_science/Cepik/nowe_samochody/dane_do_analizy/prod_na_rodzaje/output/producenci_2021_ciagnik_rolniczy.csv\n",
      "Zapisano D:/Dokumenty/Tomek/Data_science/Cepik/nowe_samochody/dane_do_analizy/prod_na_rodzaje/output/D:/Dokumenty/Tomek/Data_science/Cepik/nowe_samochody/dane_do_analizy/prod_na_rodzaje/output/producenci_2021_przyczepa_ciezarowa.csv\n",
      "----------------------\n",
      "file:  producenci_2022.csv\n",
      "Zapisano D:/Dokumenty/Tomek/Data_science/Cepik/nowe_samochody/dane_do_analizy/prod_na_rodzaje/output/D:/Dokumenty/Tomek/Data_science/Cepik/nowe_samochody/dane_do_analizy/prod_na_rodzaje/output/producenci_2022_samochod_osobowy.csv\n",
      "Zapisano D:/Dokumenty/Tomek/Data_science/Cepik/nowe_samochody/dane_do_analizy/prod_na_rodzaje/output/D:/Dokumenty/Tomek/Data_science/Cepik/nowe_samochody/dane_do_analizy/prod_na_rodzaje/output/producenci_2022_samochod_ciezarowy.csv\n",
      "Zapisano D:/Dokumenty/Tomek/Data_science/Cepik/nowe_samochody/dane_do_analizy/prod_na_rodzaje/output/D:/Dokumenty/Tomek/Data_science/Cepik/nowe_samochody/dane_do_analizy/prod_na_rodzaje/output/producenci_2022_motocykl.csv\n",
      "Zapisano D:/Dokumenty/Tomek/Data_science/Cepik/nowe_samochody/dane_do_analizy/prod_na_rodzaje/output/D:/Dokumenty/Tomek/Data_science/Cepik/nowe_samochody/dane_do_analizy/prod_na_rodzaje/output/producenci_2022_motorower.csv\n",
      "Zapisano D:/Dokumenty/Tomek/Data_science/Cepik/nowe_samochody/dane_do_analizy/prod_na_rodzaje/output/D:/Dokumenty/Tomek/Data_science/Cepik/nowe_samochody/dane_do_analizy/prod_na_rodzaje/output/producenci_2022_przyczepa_lekka.csv\n",
      "Zapisano D:/Dokumenty/Tomek/Data_science/Cepik/nowe_samochody/dane_do_analizy/prod_na_rodzaje/output/D:/Dokumenty/Tomek/Data_science/Cepik/nowe_samochody/dane_do_analizy/prod_na_rodzaje/output/producenci_2022_naczepa_ciezarowa.csv\n",
      "Zapisano D:/Dokumenty/Tomek/Data_science/Cepik/nowe_samochody/dane_do_analizy/prod_na_rodzaje/output/D:/Dokumenty/Tomek/Data_science/Cepik/nowe_samochody/dane_do_analizy/prod_na_rodzaje/output/producenci_2022_ciagnik_samochodowy.csv\n",
      "Zapisano D:/Dokumenty/Tomek/Data_science/Cepik/nowe_samochody/dane_do_analizy/prod_na_rodzaje/output/D:/Dokumenty/Tomek/Data_science/Cepik/nowe_samochody/dane_do_analizy/prod_na_rodzaje/output/producenci_2022_ciagnik_rolniczy.csv\n",
      "Zapisano D:/Dokumenty/Tomek/Data_science/Cepik/nowe_samochody/dane_do_analizy/prod_na_rodzaje/output/D:/Dokumenty/Tomek/Data_science/Cepik/nowe_samochody/dane_do_analizy/prod_na_rodzaje/output/producenci_2022_przyczepa_ciezarowa.csv\n",
      "----------------------\n",
      "file:  producenci_2023.csv\n",
      "Zapisano D:/Dokumenty/Tomek/Data_science/Cepik/nowe_samochody/dane_do_analizy/prod_na_rodzaje/output/D:/Dokumenty/Tomek/Data_science/Cepik/nowe_samochody/dane_do_analizy/prod_na_rodzaje/output/producenci_2023_samochod_osobowy.csv\n",
      "Zapisano D:/Dokumenty/Tomek/Data_science/Cepik/nowe_samochody/dane_do_analizy/prod_na_rodzaje/output/D:/Dokumenty/Tomek/Data_science/Cepik/nowe_samochody/dane_do_analizy/prod_na_rodzaje/output/producenci_2023_samochod_ciezarowy.csv\n",
      "Zapisano D:/Dokumenty/Tomek/Data_science/Cepik/nowe_samochody/dane_do_analizy/prod_na_rodzaje/output/D:/Dokumenty/Tomek/Data_science/Cepik/nowe_samochody/dane_do_analizy/prod_na_rodzaje/output/producenci_2023_motocykl.csv\n",
      "Zapisano D:/Dokumenty/Tomek/Data_science/Cepik/nowe_samochody/dane_do_analizy/prod_na_rodzaje/output/D:/Dokumenty/Tomek/Data_science/Cepik/nowe_samochody/dane_do_analizy/prod_na_rodzaje/output/producenci_2023_motorower.csv\n",
      "Zapisano D:/Dokumenty/Tomek/Data_science/Cepik/nowe_samochody/dane_do_analizy/prod_na_rodzaje/output/D:/Dokumenty/Tomek/Data_science/Cepik/nowe_samochody/dane_do_analizy/prod_na_rodzaje/output/producenci_2023_przyczepa_lekka.csv\n",
      "Zapisano D:/Dokumenty/Tomek/Data_science/Cepik/nowe_samochody/dane_do_analizy/prod_na_rodzaje/output/D:/Dokumenty/Tomek/Data_science/Cepik/nowe_samochody/dane_do_analizy/prod_na_rodzaje/output/producenci_2023_naczepa_ciezarowa.csv\n",
      "Zapisano D:/Dokumenty/Tomek/Data_science/Cepik/nowe_samochody/dane_do_analizy/prod_na_rodzaje/output/D:/Dokumenty/Tomek/Data_science/Cepik/nowe_samochody/dane_do_analizy/prod_na_rodzaje/output/producenci_2023_ciagnik_samochodowy.csv\n",
      "Zapisano D:/Dokumenty/Tomek/Data_science/Cepik/nowe_samochody/dane_do_analizy/prod_na_rodzaje/output/D:/Dokumenty/Tomek/Data_science/Cepik/nowe_samochody/dane_do_analizy/prod_na_rodzaje/output/producenci_2023_ciagnik_rolniczy.csv\n",
      "Zapisano D:/Dokumenty/Tomek/Data_science/Cepik/nowe_samochody/dane_do_analizy/prod_na_rodzaje/output/D:/Dokumenty/Tomek/Data_science/Cepik/nowe_samochody/dane_do_analizy/prod_na_rodzaje/output/producenci_2023_przyczepa_ciezarowa.csv\n"
     ]
    }
   ],
   "source": [
    "for file in files:\n",
    "    print (\"----------------------\")\n",
    "    print (\"file: \", file)\n",
    "    c = pd.read_csv(path + file, encoding = 'utf-8',sep = ',', \n",
    "                    dtype = {'id': object})\n",
    "    i=0\n",
    "    \n",
    "    for i in range(len(rodzaje)): \n",
    "        \n",
    "        \n",
    "        rodzaj = rodzaje[i]\n",
    "        nazwa = nazwy[i]\n",
    "        cwyb = c.loc[c['rodzaj_pojazdu'] == rodzaj]\n",
    "        \n",
    "        out_file_name = out_path + file[0:len(file)-4] + \"_\" + nazwa.replace(\" \", \"_\").lower() + \".csv\"\n",
    "        #print (\"     file to save: \", out_file_name)\n",
    "        cwyb.to_csv(\n",
    "            path_or_buf = out_file_name, \n",
    "            index = False,\n",
    "            encoding = 'utf-8',\n",
    "            )\n",
    "        print ('Zapisano', out_path  + out_file_name )\n",
    "        "
   ]
  },
  {
   "cell_type": "code",
   "execution_count": null,
   "id": "0eae42d2-aeff-4afa-b1cd-694599d35665",
   "metadata": {},
   "outputs": [],
   "source": []
  },
  {
   "cell_type": "code",
   "execution_count": null,
   "id": "6cee4c4f-d136-43ba-b69e-c1fb6faa3492",
   "metadata": {},
   "outputs": [],
   "source": []
  },
  {
   "cell_type": "code",
   "execution_count": null,
   "id": "202a8af3-79db-496e-b8df-5a5ab394b2f4",
   "metadata": {},
   "outputs": [],
   "source": []
  },
  {
   "cell_type": "code",
   "execution_count": null,
   "id": "914b2fd0-05bf-4817-a9af-82cac234d803",
   "metadata": {},
   "outputs": [],
   "source": []
  },
  {
   "cell_type": "code",
   "execution_count": null,
   "id": "20bef2d6-70b6-4471-b19d-6c49edbe5c5c",
   "metadata": {},
   "outputs": [],
   "source": []
  },
  {
   "cell_type": "code",
   "execution_count": null,
   "id": "c9f3e7d2-e1d4-47f6-bec5-b3e7d1995f8e",
   "metadata": {},
   "outputs": [],
   "source": []
  },
  {
   "cell_type": "code",
   "execution_count": null,
   "id": "130d2037-6559-484f-a3aa-f8a964a0aede",
   "metadata": {},
   "outputs": [],
   "source": []
  },
  {
   "cell_type": "code",
   "execution_count": null,
   "id": "3b6931c8-62fa-4ff7-aeaf-878350cfb155",
   "metadata": {},
   "outputs": [],
   "source": []
  },
  {
   "cell_type": "code",
   "execution_count": null,
   "id": "2ca16421-867e-4386-bd14-824fec85cf0d",
   "metadata": {},
   "outputs": [],
   "source": []
  },
  {
   "cell_type": "code",
   "execution_count": null,
   "id": "acb3c8ba-6b6e-40c9-9d58-48746aa74e9b",
   "metadata": {},
   "outputs": [],
   "source": []
  },
  {
   "cell_type": "code",
   "execution_count": null,
   "id": "93864f59-4cef-462a-8b8c-6844fa670d11",
   "metadata": {},
   "outputs": [],
   "source": []
  },
  {
   "cell_type": "code",
   "execution_count": null,
   "id": "068395f9-7239-4d4c-8298-6e05725fad0e",
   "metadata": {},
   "outputs": [],
   "source": []
  },
  {
   "cell_type": "code",
   "execution_count": null,
   "id": "4053d07b-b864-472f-ace1-de6852cae9c6",
   "metadata": {},
   "outputs": [],
   "source": []
  }
 ],
 "metadata": {
  "kernelspec": {
   "display_name": "Python 3 (ipykernel)",
   "language": "python",
   "name": "python3"
  },
  "language_info": {
   "codemirror_mode": {
    "name": "ipython",
    "version": 3
   },
   "file_extension": ".py",
   "mimetype": "text/x-python",
   "name": "python",
   "nbconvert_exporter": "python",
   "pygments_lexer": "ipython3",
   "version": "3.9.13"
  }
 },
 "nbformat": 4,
 "nbformat_minor": 5
}

{
 "cells": [
  {
   "cell_type": "code",
   "execution_count": 1,
   "id": "5cfc96d5-85cb-4eac-a643-890ca17f3bba",
   "metadata": {},
   "outputs": [],
   "source": [
    "import os\n",
    "import pandas as pd\n",
    "import numpy as np\n",
    "from unidecode import unidecode\n",
    "import csv"
   ]
  },
  {
   "cell_type": "code",
   "execution_count": 2,
   "id": "7a461b59-4f76-49a0-846f-f4b548acffb9",
   "metadata": {},
   "outputs": [],
   "source": [
    "#ustawienie\n",
    "czy_sparklines = True"
   ]
  },
  {
   "cell_type": "code",
   "execution_count": 3,
   "id": "01416b7e-66e0-44d7-844e-b982423c5a5f",
   "metadata": {},
   "outputs": [],
   "source": [
    "#path = \"J:/Dokumenty/Tomek/Data_science/Cepik/nowe_samochody/dane_do_analizy/2022_all/\"\n",
    "\n",
    "# path work\n",
    "#path = \"C://Users//tcwik//Documents//Python_Scripts//cepik//dane//producenci//dane//\"\n",
    "#output_path =\"C://Users//tcwik//Documents//Python_Scripts//cepik//dane//producenci//output//\"\n",
    "\n",
    "# path home\n",
    "path = \"D:/Dokumenty/Tomek/Data_science/Cepik/nowe_samochody/dane_do_analizy/dynamika/producenci/dane/\"\n",
    "output_path =\"D:/Dokumenty/Tomek/Data_science/Cepik/nowe_samochody/dane_do_analizy/dynamika/producenci/output/\"\n",
    "#path_tablice = \"J:/Dokumenty/Tomek/Data_science/Cepik/nowe_samochody/dane_do_analizy/001_tablice_pomocnicze/\"\n",
    "\n",
    "#J:\\Dokumenty\\Tomek\\Data_science\\Cepik\\nowe_samochody\\dane_do_analizy\\dynamika\\producenci\n",
    "\n",
    "file_name = \"001_marged_files.csv\"\n",
    "#output_path = \"J:/Dokumenty/Tomek/Data_science/Cepik/nowe_samochody/2022/2022_result_total\""
   ]
  },
  {
   "cell_type": "code",
   "execution_count": null,
   "id": "3eab3086-93f8-4dd7-a306-cb5d156c527c",
   "metadata": {},
   "outputs": [],
   "source": []
  },
  {
   "cell_type": "code",
   "execution_count": 4,
   "id": "2922a1b4-9e5f-43d3-95b2-94defdefa3c0",
   "metadata": {
    "tags": []
   },
   "outputs": [
    {
     "name": "stdout",
     "output_type": "stream",
     "text": [
      "producenci_2018.csv\n",
      "producenci_2019.csv\n",
      "producenci_2020.csv\n",
      "producenci_2021.csv\n",
      "producenci_2022.csv\n",
      "producenci_2023.csv\n"
     ]
    }
   ],
   "source": [
    "\n",
    "files = [file for file in os.listdir(path) if not file.startswith('.')] # Ignore hidden files\n",
    "\n",
    "all_data = pd.DataFrame()\n",
    "current_data = pd.DataFrame()\n",
    "\n",
    "for file in files:\n",
    "\n",
    "    \n",
    "    print (file)\n",
    "    current_data = pd.read_csv(path+file)\n",
    "    \n",
    "    current_data['rok'] = file[-8:-4]\n",
    "    all_data = pd.concat([all_data, current_data])\n",
    "\n",
    "\n",
    "all_data.to_csv(output_path + file_name , index=False)\n",
    "c=all_data\n",
    "    "
   ]
  },
  {
   "cell_type": "code",
   "execution_count": null,
   "id": "40b9fc46-dd04-4a5d-bc0c-63e354051b02",
   "metadata": {},
   "outputs": [],
   "source": []
  },
  {
   "cell_type": "code",
   "execution_count": null,
   "id": "36848462-c050-4f62-84c7-0cb697fe5c15",
   "metadata": {},
   "outputs": [],
   "source": []
  },
  {
   "cell_type": "code",
   "execution_count": null,
   "id": "38d2da49-9950-49fb-8fb2-e88cb87e20e5",
   "metadata": {},
   "outputs": [],
   "source": []
  },
  {
   "cell_type": "code",
   "execution_count": 5,
   "id": "a0dbf71e-c15c-41ed-9489-54a6979cc108",
   "metadata": {},
   "outputs": [],
   "source": [
    "cg = c.groupby(['rodzaj_pojazdu','marka','rok'], axis = 0, as_index=False).sum()\n",
    "#cc_producenci.groupby(['wojewodztwo','marka','rodzaj_pojazdu'],as_index=False).sum()\n",
    "\n",
    "    \n",
    "t = pd.pivot_table(cg, values='liczba_pojazdow', index = ['rodzaj_pojazdu','marka'], columns ='rok', aggfunc=np.sum)\n",
    "t.fillna(0)\n",
    "tt = t.reset_index()\n",
    "tt = tt.fillna(0)\n",
    "\n",
    "\n",
    "# zaogrląglanie danych do intg\n",
    "lata = ['2018','2019','2020','2021','2022','2023']\n",
    "for rok in lata:\n",
    "    tt[rok] = tt[rok].astype('int64')\n",
    "\n",
    "tt = tt.fillna(0)\n",
    "#Obliczanie procentów\n",
    "lata = ['2019','2020','2021','2022','2023']\n",
    "for rok in lata:\n",
    "    rokproc = str(rok) + \"%\"\n",
    "    rok_b = str(rok)\n",
    "    rok_1 = str(int(rok)-1)\n",
    "    tt[rokproc] = round(((tt[rok_b]/tt[rok_1])-1)*100,1)\n",
    "     \n",
    "    \n",
    "# fill na sorting   \n",
    "tt = tt.fillna(0)\n",
    "tt = tt.sort_values(by = ['2023','2022','2021','2020'], ascending = False)\n",
    "#columns_to_int = ['2023','2022','2021','2020','2019','2018']\n",
    "#columns_to_int_p = ['2023%','2022%','2021%','2020%','2019%']\n",
    "\n",
    "# Columns order\n",
    "\n",
    "tc_columns = ['rodzaj_pojazdu', 'marka', '2018', '2019', '2020', '2021', '2022','2023', '2019%', '2020%', '2021%', '2022%', '2023%']\n",
    "\n",
    "# Sparklines\n",
    "if czy_sparklines == True:\n",
    "    #tt['sparkline'] = '<span style = \"float: right\" class=\"inlinesparkline\">' + tt['2018'].astype(str) +','+ tt['2019'].astype(str) +','+ tt['2020'].astype(str) +','+ tt['2021'].astype(str) +','+ tt['2022'].astype(str) + '</span>' \n",
    "    tt['sparkline'] = tt['2018'].astype(str) +','+ tt['2019'].astype(str) +','+ tt['2020'].astype(str) +','+ tt['2021'].astype(str) +','+ tt['2022'].astype(str) +','+ tt['2023'].astype(str)\n",
    "    tt['sparkline'] = tt['sparkline'].astype(str)\n",
    "    tc_columns = ['rodzaj_pojazdu', 'marka', 'sparkline', '2018', '2019', '2020', '2021', '2022','2023', '2019%', '2020%', '2021%', '2022%', '2023%'   ]\n",
    "\n",
    "# re-arrange colums order\n",
    "\n",
    "tt = tt[tc_columns]"
   ]
  },
  {
   "cell_type": "code",
   "execution_count": null,
   "id": "7cb71c6c-3ec5-4bf9-bff4-f2c742d3adf5",
   "metadata": {},
   "outputs": [],
   "source": []
  },
  {
   "cell_type": "code",
   "execution_count": 6,
   "id": "722b223b-c3de-4f56-bac3-3a83e122c739",
   "metadata": {},
   "outputs": [
    {
     "name": "stdout",
     "output_type": "stream",
     "text": [
      "samochod_osobowy _dynamika.csv  saved\n",
      "samochod_osobowy _dynamika.xlsx  saved\n",
      "przyczepa_lekka _dynamika.csv  saved\n",
      "przyczepa_lekka _dynamika.xlsx  saved\n",
      "naczepa_ciezarowa _dynamika.csv  saved\n",
      "naczepa_ciezarowa _dynamika.xlsx  saved\n",
      "samochod_ciezarowy _dynamika.csv  saved\n",
      "samochod_ciezarowy _dynamika.xlsx  saved\n",
      "motocykl _dynamika.csv  saved\n",
      "motocykl _dynamika.xlsx  saved\n",
      "ciagnik_samochodowy _dynamika.csv  saved\n",
      "ciagnik_samochodowy _dynamika.xlsx  saved\n",
      "ciagnik_rolniczy _dynamika.csv  saved\n",
      "ciagnik_rolniczy _dynamika.xlsx  saved\n",
      "motorower _dynamika.csv  saved\n",
      "motorower _dynamika.xlsx  saved\n",
      "przyczepa_ciezarowa _dynamika.csv  saved\n",
      "przyczepa_ciezarowa _dynamika.xlsx  saved\n",
      "przyczepa_ciezarowa_rolnicza _dynamika.csv  saved\n",
      "przyczepa_ciezarowa_rolnicza _dynamika.xlsx  saved\n",
      "samochod_specjalny _dynamika.csv  saved\n",
      "samochod_specjalny _dynamika.xlsx  saved\n",
      "autobus _dynamika.csv  saved\n",
      "autobus _dynamika.xlsx  saved\n",
      "przyczepa_specjalna _dynamika.csv  saved\n",
      "przyczepa_specjalna _dynamika.xlsx  saved\n",
      "samochodowy_inny _dynamika.csv  saved\n",
      "samochodowy_inny _dynamika.xlsx  saved\n",
      "naczepa_specjalna _dynamika.csv  saved\n",
      "naczepa_specjalna _dynamika.xlsx  saved\n",
      "trolejbus _dynamika.csv  saved\n",
      "trolejbus _dynamika.xlsx  saved\n",
      "przyczepa-kolejka_turystyczna _dynamika.csv  saved\n",
      "przyczepa-kolejka_turystyczna _dynamika.xlsx  saved\n",
      "pojazd_wolnobiezny-kolejka_turystyczna _dynamika.csv  saved\n",
      "pojazd_wolnobiezny-kolejka_turystyczna _dynamika.xlsx  saved\n",
      "ciagnik_rolniczy-kolejka_turystyczna _dynamika.csv  saved\n",
      "ciagnik_rolniczy-kolejka_turystyczna _dynamika.xlsx  saved\n"
     ]
    }
   ],
   "source": [
    "# lista kategorii w rodzaj_pojazdu\n",
    "rodzaje_pojazdow = tt.rodzaj_pojazdu.unique().tolist()\n",
    "\n",
    "for kategoria in rodzaje_pojazdow:\n",
    "    \n",
    "    kat_to_save = kategoria.replace(\" \", \"_\")\n",
    "    kat_to_save = unidecode(kat_to_save)\n",
    "    kat_to_save = kat_to_save.lower()\n",
    "    \n",
    "    \n",
    "    tcat = tt.loc[tt['rodzaj_pojazdu'] == kategoria]\n",
    "    tcat = tcat.drop('rodzaj_pojazdu', axis=1)\n",
    "    tcat.to_csv(\n",
    "                \n",
    "                path_or_buf = output_path + \"csv/\" + \"dyn_prod_\" +kat_to_save +\".csv\", \n",
    "                index = False,\n",
    "                sep = \";\",\n",
    "                encoding = 'utf-8',\n",
    "                quoting=csv.QUOTE_NONE, quotechar=\" \",  escapechar=\"\\\\\"\n",
    "                \n",
    "                \n",
    "                )\n",
    "    print (kat_to_save ,\"_dynamika.csv\", \" saved\")\n",
    "    tcat.to_excel(\n",
    "                output_path + \"xls/\" +  \"dyn_prod_\" + kat_to_save + \".xlsx\", \n",
    "                index = False,\n",
    "                encoding = 'utf-8',\n",
    "        \n",
    "                )\n",
    "    print (kat_to_save ,\"_dynamika.xlsx\", \" saved\")\n",
    "\n",
    "    "
   ]
  },
  {
   "cell_type": "code",
   "execution_count": null,
   "id": "3aae3e4c-15c4-494f-913f-3b2e8060e63a",
   "metadata": {},
   "outputs": [],
   "source": [
    "\n"
   ]
  },
  {
   "cell_type": "code",
   "execution_count": null,
   "id": "6945a8fa-e4e4-46ad-b66b-4dfed832ed83",
   "metadata": {},
   "outputs": [],
   "source": []
  },
  {
   "cell_type": "code",
   "execution_count": null,
   "id": "eafffdc1-a342-4c86-9bbe-121105b5efb6",
   "metadata": {},
   "outputs": [],
   "source": [
    "\n"
   ]
  },
  {
   "cell_type": "code",
   "execution_count": null,
   "id": "1f338e82-99b9-44de-b1d8-ab09d7ef9463",
   "metadata": {},
   "outputs": [],
   "source": []
  },
  {
   "cell_type": "code",
   "execution_count": null,
   "id": "2d49de81-7ba0-4222-9f11-9b0576951306",
   "metadata": {},
   "outputs": [],
   "source": []
  },
  {
   "cell_type": "code",
   "execution_count": null,
   "id": "2f67dec7-83c8-4312-a039-ce408c24f5c6",
   "metadata": {},
   "outputs": [],
   "source": []
  },
  {
   "cell_type": "code",
   "execution_count": null,
   "id": "686e37ef-085b-4531-ae0e-1b6e6d606c7f",
   "metadata": {},
   "outputs": [],
   "source": []
  },
  {
   "cell_type": "code",
   "execution_count": 7,
   "id": "c7540d9e-e32b-4fd7-a42a-ad18c9955099",
   "metadata": {},
   "outputs": [
    {
     "data": {
      "text/html": [
       "<div>\n",
       "<style scoped>\n",
       "    .dataframe tbody tr th:only-of-type {\n",
       "        vertical-align: middle;\n",
       "    }\n",
       "\n",
       "    .dataframe tbody tr th {\n",
       "        vertical-align: top;\n",
       "    }\n",
       "\n",
       "    .dataframe thead th {\n",
       "        text-align: right;\n",
       "    }\n",
       "</style>\n",
       "<table border=\"1\" class=\"dataframe\">\n",
       "  <thead>\n",
       "    <tr style=\"text-align: right;\">\n",
       "      <th></th>\n",
       "      <th>liczba_pojazdow</th>\n",
       "    </tr>\n",
       "  </thead>\n",
       "  <tbody>\n",
       "    <tr>\n",
       "      <th>count</th>\n",
       "      <td>56314.000000</td>\n",
       "    </tr>\n",
       "    <tr>\n",
       "      <th>mean</th>\n",
       "      <td>64.763735</td>\n",
       "    </tr>\n",
       "    <tr>\n",
       "      <th>std</th>\n",
       "      <td>437.575436</td>\n",
       "    </tr>\n",
       "    <tr>\n",
       "      <th>min</th>\n",
       "      <td>1.000000</td>\n",
       "    </tr>\n",
       "    <tr>\n",
       "      <th>25%</th>\n",
       "      <td>1.000000</td>\n",
       "    </tr>\n",
       "    <tr>\n",
       "      <th>50%</th>\n",
       "      <td>4.000000</td>\n",
       "    </tr>\n",
       "    <tr>\n",
       "      <th>75%</th>\n",
       "      <td>18.000000</td>\n",
       "    </tr>\n",
       "    <tr>\n",
       "      <th>max</th>\n",
       "      <td>29980.000000</td>\n",
       "    </tr>\n",
       "  </tbody>\n",
       "</table>\n",
       "</div>"
      ],
      "text/plain": [
       "       liczba_pojazdow\n",
       "count     56314.000000\n",
       "mean         64.763735\n",
       "std         437.575436\n",
       "min           1.000000\n",
       "25%           1.000000\n",
       "50%           4.000000\n",
       "75%          18.000000\n",
       "max       29980.000000"
      ]
     },
     "execution_count": 7,
     "metadata": {},
     "output_type": "execute_result"
    }
   ],
   "source": [
    "c.describe()"
   ]
  },
  {
   "cell_type": "code",
   "execution_count": null,
   "id": "7d82c45c-8ff5-43cb-b7cd-b85fa7b9c2cc",
   "metadata": {},
   "outputs": [],
   "source": []
  },
  {
   "cell_type": "code",
   "execution_count": 8,
   "id": "0ff0c112-061c-48b3-a481-4a858ff2ee55",
   "metadata": {},
   "outputs": [
    {
     "data": {
      "text/plain": [
       "56314"
      ]
     },
     "execution_count": 8,
     "metadata": {},
     "output_type": "execute_result"
    }
   ],
   "source": [
    "len(all_data)"
   ]
  },
  {
   "cell_type": "code",
   "execution_count": 9,
   "id": "a8046886-d0d4-4323-9014-9ad67d2fc581",
   "metadata": {},
   "outputs": [],
   "source": [
    "#len(osobwe)"
   ]
  },
  {
   "cell_type": "code",
   "execution_count": 10,
   "id": "18798eaf-e546-435a-929b-0d0fcb7b73cb",
   "metadata": {},
   "outputs": [],
   "source": [
    "#osobwe.info()"
   ]
  },
  {
   "cell_type": "code",
   "execution_count": null,
   "id": "d7977efa-af0c-4a26-9cf7-a8a4be40abbe",
   "metadata": {},
   "outputs": [],
   "source": []
  },
  {
   "cell_type": "code",
   "execution_count": null,
   "id": "b3e3eba6-aa63-4975-a3af-938e50b58866",
   "metadata": {},
   "outputs": [],
   "source": []
  }
 ],
 "metadata": {
  "kernelspec": {
   "display_name": "Python 3 (ipykernel)",
   "language": "python",
   "name": "python3"
  },
  "language_info": {
   "codemirror_mode": {
    "name": "ipython",
    "version": 3
   },
   "file_extension": ".py",
   "mimetype": "text/x-python",
   "name": "python",
   "nbconvert_exporter": "python",
   "pygments_lexer": "ipython3",
   "version": "3.9.13"
  }
 },
 "nbformat": 4,
 "nbformat_minor": 5
}
